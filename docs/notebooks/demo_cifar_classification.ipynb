{
 "cells": [
  {
   "cell_type": "markdown",
   "id": "430c3d772b2f2bb0",
   "metadata": {
    "editable": true,
    "slideshow": {
     "slide_type": ""
    },
    "tags": []
   },
   "source": [
    "# Training a 1-Lipschitz constrained network on CIFAR10 with Orthogonium\n",
    "\n",
    "## Lipschitz-Constrained Networks and Certifiable Robustness\n",
    "\n",
    "**What is a Lipschitz Network?**\n",
    "A *Lipschitz network* is a neural network in which each layer is constrained to be a 1-Lipschitz function. This means that small changes in the input lead to only small changes in the output, ensuring controlled sensitivity throughout the network. The overall Lipschitz constant of the network is usually estimated as the product of the Lipschitz constants of its individual layers. However, this bound is often loose and difficult to compute exactly.\n",
    "\n",
    "**How to Build Lipschitz Networks?**\n",
    "To construct such networks:\n",
    "- **Orthogonal Layers:** Use layers that enforce orthogonality constraints (e.g., Adaptive OrthoConvolutions). These layers are designed to strictly represent 1-Lipschitz functions.\n",
    "- **Special Activations:** Incorporate activations like **MaxMin** which, when combined with orthogonal layers, help in obtaining a tight estimation of the network's Lipschitz constant.\n",
    "- **Reparametrization Techniques:** Methods such as AOC (Adaptive OrthoConvolutions) ensure that each layer adheres to the 1-Lipschitz constraint, making the overall bound much tighter compared to a simple product of individual bounds.\n",
    "\n",
    "**Certifiable Robustness**\n",
    "Certifiable robustness provides a guarantee on the minimal perturbation needed to alter the network's prediction, independent of any specific adversarial attack. For a 1-Lipschitz classification function $ f $ with $ f(x)_l $ representing the logit for the true class and $ f(x)_i $ for any other class, a robustness certificate in the $ L_2 $ norm is given by:\n",
    "$$\n",
    "\\epsilon \\geq \\frac{f(x)_l - \\max_{i \\neq l} f(x)_i}{\\sqrt{2}}\n",
    "$$\n",
    "This means that as long as the perturbation remains below $ \\epsilon $, the classification will not change. This certificate is:\n",
    "- **Independent of Attacks:** It does not rely on any particular adversarial attack method, ensuring that the guarantee remains valid even as new attack strategies emerge.\n",
    "- **Computationally Efficient:** The certificate can be computed cheaply and even integrated as a loss term during training, leading to models that are robust by design.\n",
    "\n",
    "**Applications and Benefits**\n",
    "Lipschitz-constrained networks are not only crucial for certifiable robustness but also have broader applications:\n",
    "- They are tightly linked with generative models like WGANs and concepts in optimal transport.\n",
    "- They enable scalable differential privacy and help avoid singularities in models such as diffusion networks.\n",
    "- They guarantee existence and uniqueness in classification tasks, making them appealing for reliable machine learning.\n",
    "\n",
    "In summary, by combining orthogonal layers with appropriate activations and reparametrization techniques, one can build Lipschitz networks that not only deliver competitive performance but also offer provable robustness guarantees.\n"
   ]
  },
  {
   "cell_type": "code",
   "execution_count": 1,
   "id": "18fd1cee-c6cd-473f-b375-1678983991ab",
   "metadata": {},
   "outputs": [],
   "source": [
    "# !pip install orthogonium lightning rich schedulefree"
   ]
  },
  {
   "cell_type": "code",
   "execution_count": 2,
   "id": "54c7e322929ba6a2",
   "metadata": {},
   "outputs": [],
   "source": [
    "import math\n",
    "import os\n",
    "\n",
    "import schedulefree\n",
    "import torch\n",
    "import torch.utils.data\n",
    "import torchmetrics\n",
    "from lightning.pytorch import callbacks as pl_callbacks\n",
    "from lightning.pytorch import Trainer\n",
    "from lightning.pytorch import LightningModule, LightningDataModule\n",
    "from torchinfo import summary\n",
    "# from lightning.pytorch.loggers import WandbLogger  # Uncomment if using Wandb logging\n",
    "from torch.nn import AvgPool2d\n",
    "from torch.utils.data import DataLoader\n",
    "from torchvision.datasets import CIFAR10\n",
    "from torchvision.transforms import Compose, Normalize, RandAugment, RandomHorizontalFlip, RandomResizedCrop, ToTensor\n",
    "\n",
    "from orthogonium.model_factory.classparam import ClassParam\n",
    "from orthogonium.layers.conv.AOC import AdaptiveOrthoConv2d\n",
    "from orthogonium.layers.linear import OrthoLinear\n",
    "from orthogonium.layers.custom_activations import MaxMin\n",
    "from orthogonium.losses import LossXent, CosineLoss\n",
    "from orthogonium.losses import VRA\n",
    "from orthogonium.model_factory.models_factory import StagedCNN, PatchBasedExapandedCNN\n",
    "\n",
    "# Enable benchmark mode and set matmul precision for performance tuning\n",
    "torch.backends.cudnn.benchmark = True\n",
    "torch.set_float32_matmul_precision(\"medium\")\n"
   ]
  },
  {
   "cell_type": "markdown",
   "id": "2ee069e5694ccd2d",
   "metadata": {},
   "source": [
    "## Training Settings\n",
    "\n",
    "You can play with the training settings to explore different configurations and compare their performance. The settings include:\n",
    "\n",
    "**Training settings include:**\n",
    "- **non_robust:** Cosine Similarity loss training.\n",
    "- **mildly_robust:** Cross Entropy Loss includes a high margin targeting a VRA of 36/255, resulting in 42% VRA.\n",
    "- **robust:** Similar to mildly robust, but with settings that push towards 72/255 verified robust accuracy, resulting in 47% VRA.\n",
    "\n",
    "\n",
    "> Note: The aim here is to show the training flow rather than reach state-of-the-art performance.\n",
    "\n",
    "## Training Settings Performance\n",
    "\n",
    "| Setting       | Epochs | Accuracy | Verified Robust Accuracy (VRA) |\n",
    "|---------------|--------|----------|--------------------------------|\n",
    "| **non_robust**    | 60     | 88.5%    | 0%                             |\n",
    "| **mildly_robust** | 150    | 75%      | 42%                            |\n",
    "| **robust**        | 150    | 71%      | 47%                            |\n",
    "\n",
    "These configurations are stored in the `settings` dictionary.\n"
   ]
  },
  {
   "cell_type": "code",
   "execution_count": 3,
   "id": "337a713cc4e13f55",
   "metadata": {},
   "outputs": [],
   "source": [
    "settings = {\n",
    "    \"non_robust\": {\n",
    "        \"loss\": CosineLoss,\n",
    "        \"epochs\": 60,\n",
    "    },\n",
    "    \"mildly_robust\": {\n",
    "        \"loss\": ClassParam(\n",
    "            LossXent,\n",
    "            n_classes=10,\n",
    "            offset=(math.sqrt(2) / 0.1983) * (36 / 255),  # aiming for 36/255 verified robust accuracy\n",
    "            temperature=0.125,\n",
    "        ),\n",
    "        \"epochs\": 150,\n",
    "    },\n",
    "    \"robust\": {\n",
    "        \"loss\": ClassParam(\n",
    "            LossXent,\n",
    "            n_classes=10,\n",
    "            offset=(math.sqrt(2) / 0.1983) * (72 / 255),  # aiming for 72/255 verified robust accuracy\n",
    "            temperature=0.25,\n",
    "        ),\n",
    "        \"epochs\": 150,\n",
    "    },\n",
    "}\n"
   ]
  },
  {
   "cell_type": "markdown",
   "id": "eec8549d5fa315b5",
   "metadata": {},
   "source": [
    "## Data Module: CIFAR10\n",
    "\n",
    "We create a `LightningDataModule` to load and preprocess the CIFAR10 training and validation datasets.\n",
    "\n",
    "The training dataloader applies several transforms:\n",
    "- Random resized cropping\n",
    "- Random horizontal flip\n",
    "- Normalization using precomputed mean and standard deviation\n",
    "\n",
    "The validation dataloader only applies tensor conversion and normalization.\n",
    "\n"
   ]
  },
  {
   "cell_type": "code",
   "execution_count": 4,
   "id": "1e578065843cfeb2",
   "metadata": {},
   "outputs": [],
   "source": [
    "class Cifar10DataModule(LightningDataModule):\n",
    "    # Dataset configuration\n",
    "    _BATCH_SIZE = 256\n",
    "    _NUM_WORKERS = 8  # Number of parallel processes for data loading\n",
    "    _PREPROCESSING_PARAMS = {\n",
    "        \"img_mean\": (0.41757566, 0.26098573, 0.25888634),\n",
    "        \"img_std\": (0.21938758, 0.1983, 0.19342837),\n",
    "        \"crop_size\": 32,\n",
    "        \"horizontal_flip_prob\": 0.5,\n",
    "        \"random_resized_crop_params\": {\n",
    "            \"scale\": (0.5, 1.0),\n",
    "            \"ratio\": (3.0 / 4.0, 4.0 / 3.0),\n",
    "        },\n",
    "    }\n",
    "\n",
    "    def train_dataloader(self):\n",
    "        # Define the transformations for training data\n",
    "        transform = Compose(\n",
    "            [\n",
    "                RandomResizedCrop(\n",
    "                    self._PREPROCESSING_PARAMS[\"crop_size\"],\n",
    "                    **self._PREPROCESSING_PARAMS[\"random_resized_crop_params\"],\n",
    "                ),\n",
    "                RandomHorizontalFlip(self._PREPROCESSING_PARAMS[\"horizontal_flip_prob\"]),\n",
    "                # Uncomment the following line to use RandAugment\n",
    "                # RandAugment(**self._PREPROCESSING_PARAMS[\"randaug_params\"]),\n",
    "                ToTensor(),\n",
    "                Normalize(\n",
    "                    mean=self._PREPROCESSING_PARAMS[\"img_mean\"],\n",
    "                    std=self._PREPROCESSING_PARAMS[\"img_std\"],\n",
    "                ),\n",
    "            ]\n",
    "        )\n",
    "\n",
    "        train_dataset = CIFAR10(\n",
    "            root=\"./data\",\n",
    "            train=True,\n",
    "            download=True,\n",
    "            transform=transform,\n",
    "        )\n",
    "\n",
    "        return DataLoader(\n",
    "            train_dataset,\n",
    "            batch_size=self._BATCH_SIZE,\n",
    "            num_workers=self._NUM_WORKERS,\n",
    "            prefetch_factor=2,\n",
    "            shuffle=True,\n",
    "        )\n",
    "\n",
    "    def val_dataloader(self):\n",
    "        # Define the transformations for validation data\n",
    "        transform = Compose(\n",
    "            [\n",
    "                ToTensor(),\n",
    "                Normalize(\n",
    "                    mean=self._PREPROCESSING_PARAMS[\"img_mean\"],\n",
    "                    std=self._PREPROCESSING_PARAMS[\"img_std\"],\n",
    "                ),\n",
    "            ]\n",
    "        )\n",
    "\n",
    "        val_dataset = CIFAR10(\n",
    "            root=\"./data\",\n",
    "            train=False,\n",
    "            download=True,\n",
    "            transform=transform,\n",
    "        )\n",
    "\n",
    "        return DataLoader(\n",
    "            val_dataset,\n",
    "            batch_size=self._BATCH_SIZE * 4,\n",
    "            num_workers=self._NUM_WORKERS,\n",
    "            shuffle=False,\n",
    "        )\n"
   ]
  },
  {
   "cell_type": "markdown",
   "id": "617cfc5c06ab2d75",
   "metadata": {},
   "source": [
    "## Classification Model Module\n",
    "\n",
    "We now define a `LightningModule` that wraps our CNN model. The network uses the `PatchBasedExapandedCNN` factory method from *orthogonium*.\n",
    "\n",
    "The architecture consists of 4 main parts:\n",
    "- The stem is a patch extractor: a convolution whose kernel size equals the stride.\n",
    "- A sequence of residual block: each residual features a learnable factor to ensure its Lipschitzness. In each residual, there is one depthwise convolution, A MaxMin activation, and a pointwise convolution. No pooling is performed in this part of the network.\n",
    "- A pooling layer: here, we use a depthwise convolution whose kernel size equals the image size. This allows for the localization of features without using a large amount of weight. (this is not mandatory for accurate training but seems to obtain a slightly better accuracy / robustness tradeoff in robust training).\n",
    "- a Fully connected layer for classification.\n",
    "\n",
    "All convolutional layers use AOC, allowing the construction of complex Lipschitz-constrained architectures.\n",
    "\n",
    "Key components include:\n",
    "- The custom CNN model architecture.\n",
    "- The loss function (set based on the selected training configuration).\n",
    "- Training and validation steps that compute and log both accuracy and verified robust accuracy (VRA).\n",
    "- The `configure_optimizers` method which sets up the Adam optimizer with schedule-free updates.\n"
   ]
  },
  {
   "cell_type": "code",
   "execution_count": 5,
   "id": "d3bc13596b867137",
   "metadata": {},
   "outputs": [],
   "source": [
    "class ClassificationLightningModule(LightningModule):\n",
    "    def __init__(self, num_classes=10, loss=None):\n",
    "        super().__init__()\n",
    "        self.num_classes = num_classes\n",
    "        self.model = PatchBasedExapandedCNN(\n",
    "            img_shape=(3, 32, 32),\n",
    "            dim=256,\n",
    "            depth=12,\n",
    "            kernel_size=3,\n",
    "            patch_size=2,\n",
    "            expand_factor=2,\n",
    "            groups=None,\n",
    "            n_classes=10,\n",
    "            skip=True,\n",
    "            conv=ClassParam(\n",
    "                AdaptiveOrthoConv2d,\n",
    "                bias=False,\n",
    "                padding=\"same\",\n",
    "                padding_mode=\"zeros\",\n",
    "            ),\n",
    "            act=ClassParam(MaxMin),\n",
    "            pool=ClassParam(\n",
    "                AdaptiveOrthoConv2d,\n",
    "                in_channels=256,\n",
    "                out_channels=256,\n",
    "                groups=128,\n",
    "                bias=False,\n",
    "                padding=0,\n",
    "                kernel_size=16,\n",
    "                stride=16,\n",
    "            ),\n",
    "            lin=ClassParam(OrthoLinear, bias=False),\n",
    "            norm=None,\n",
    "        )\n",
    "        self.criteria = loss() if loss is not None else torch.nn.CrossEntropyLoss()\n",
    "        self.train_acc = torchmetrics.Accuracy(task=\"multiclass\", num_classes=num_classes)\n",
    "        self.val_acc = torchmetrics.Accuracy(task=\"multiclass\", num_classes=num_classes)\n",
    "        self.train_vra = torchmetrics.MeanMetric()\n",
    "        self.val_vra = torchmetrics.MeanMetric()\n",
    "\n",
    "    def forward(self, x):\n",
    "        return self.model(x)\n",
    "\n",
    "    def training_step(self, batch, batch_idx):\n",
    "        self.model.train()\n",
    "        img, label = batch\n",
    "        y_hat = self.model(img)\n",
    "        loss = self.criteria(y_hat, label)\n",
    "        self.train_acc(y_hat, label)\n",
    "        self.train_vra(\n",
    "            VRA(\n",
    "                y_hat,\n",
    "                label,\n",
    "                L=1 / min(Cifar10DataModule._PREPROCESSING_PARAMS[\"img_std\"]),\n",
    "                eps=36 / 255,\n",
    "                last_layer_type=\"global\",\n",
    "            )\n",
    "        )\n",
    "        self.log(\"loss\", loss, on_epoch=True, on_step=True, prog_bar=True, sync_dist=True)\n",
    "        self.log(\"accuracy\", self.train_acc, on_epoch=True, on_step=True, prog_bar=True, sync_dist=True)\n",
    "        self.log(\"vra\", self.train_vra, on_epoch=True, on_step=True, prog_bar=True, sync_dist=False)\n",
    "        return loss\n",
    "\n",
    "    def validation_step(self, batch, batch_idx):\n",
    "        self.model.eval()\n",
    "        img, label = batch\n",
    "        y_hat = self.model(img)\n",
    "        loss = self.criteria(y_hat, label)\n",
    "        self.val_acc(y_hat, label)\n",
    "        self.val_vra(\n",
    "            VRA(\n",
    "                y_hat,\n",
    "                label,\n",
    "                L=1 / min(Cifar10DataModule._PREPROCESSING_PARAMS[\"img_std\"]),\n",
    "                eps=36 / 255,\n",
    "                last_layer_type=\"global\",\n",
    "            )\n",
    "        )\n",
    "        self.log(\"val_loss\", loss, on_epoch=True, on_step=False, prog_bar=True, sync_dist=True)\n",
    "        self.log(\"val_accuracy\", self.val_acc, on_epoch=True, on_step=False, prog_bar=True, sync_dist=True)\n",
    "        self.log(\"val_vra\", self.val_vra, on_epoch=True, on_step=False, prog_bar=True, sync_dist=True)\n",
    "        return loss\n",
    "\n",
    "    def configure_optimizers(self):\n",
    "        # Setup the Adam optimizer with schedule-free updates.\n",
    "        optimizer = schedulefree.AdamWScheduleFree(self.parameters(), lr=5e-3, weight_decay=0)\n",
    "        optimizer.train()\n",
    "        self.hparams[\"lr\"] = optimizer.param_groups[0][\"lr\"]\n",
    "        return optimizer\n"
   ]
  },
  {
   "cell_type": "markdown",
   "id": "7442d6e9fdde2433",
   "metadata": {},
   "source": [
    "## Training Routine\n",
    "\n",
    "For example, to run a **non robust** training setting, set:\n",
    "\n",
    "```python\n",
    "train_setting = \"non_robust\"\n"
   ]
  },
  {
   "cell_type": "code",
   "execution_count": 6,
   "id": "17b7575b29534e21",
   "metadata": {},
   "outputs": [
    {
     "name": "stderr",
     "output_type": "stream",
     "text": [
      "Using bfloat16 Automatic Mixed Precision (AMP)\n",
      "GPU available: True (cuda), used: True\n",
      "TPU available: False, using: 0 TPU cores\n",
      "HPU available: False, using: 0 HPUs\n",
      "/mnt/deel/data/thibaut.boissin/envs/ortho/lib/python3.12/site-packages/lightning/pytorch/callbacks/model_checkpoint.py:654: Checkpoint directory /home/thibaut.boissin/projects/orthogonium/docs/notebooks/checkpoints exists and is not empty.\n",
      "LOCAL_RANK: 0 - CUDA_VISIBLE_DEVICES: [0,1]\n",
      "\n",
      "  | Name      | Type               | Params | Mode \n",
      "---------------------------------------------------------\n",
      "0 | model     | Sequential         | 1.9 M  | train\n",
      "1 | criteria  | CosineLoss         | 0      | train\n",
      "2 | train_acc | MulticlassAccuracy | 0      | train\n",
      "3 | val_acc   | MulticlassAccuracy | 0      | train\n",
      "4 | train_vra | MeanMetric         | 0      | train\n",
      "5 | val_vra   | MeanMetric         | 0      | train\n",
      "---------------------------------------------------------\n",
      "1.8 M     Trainable params\n",
      "130 K     Non-trainable params\n",
      "1.9 M     Total params\n",
      "7.657     Total estimated model params size (MB)\n",
      "352       Modules in train mode\n",
      "0         Modules in eval mode\n"
     ]
    },
    {
     "name": "stdout",
     "output_type": "stream",
     "text": [
      "==================================================================================================================================\n",
      "Layer (type:depth-idx)                                                           Output Shape              Param #\n",
      "==================================================================================================================================\n",
      "ClassificationLightningModule                                                    [1, 10]                   --\n",
      "├─Sequential: 1-1                                                                [1, 10]                   --\n",
      "│    └─ParametrizedRKOConv2d: 2-1                                                [1, 256, 16, 16]          --\n",
      "│    │    └─ModuleDict: 3-1                                                      --                        3,340\n",
      "│    └─AdditiveResidual: 2-2                                                     [1, 256, 16, 16]          1\n",
      "│    │    └─Sequential: 3-2                                                      [1, 256, 16, 16]          142,592\n",
      "│    └─AdditiveResidual: 2-3                                                     [1, 256, 16, 16]          1\n",
      "│    │    └─Sequential: 3-3                                                      [1, 256, 16, 16]          142,592\n",
      "│    └─AdditiveResidual: 2-4                                                     [1, 256, 16, 16]          1\n",
      "│    │    └─Sequential: 3-4                                                      [1, 256, 16, 16]          142,592\n",
      "│    └─AdditiveResidual: 2-5                                                     [1, 256, 16, 16]          1\n",
      "│    │    └─Sequential: 3-5                                                      [1, 256, 16, 16]          142,592\n",
      "│    └─AdditiveResidual: 2-6                                                     [1, 256, 16, 16]          1\n",
      "│    │    └─Sequential: 3-6                                                      [1, 256, 16, 16]          142,592\n",
      "│    └─AdditiveResidual: 2-7                                                     [1, 256, 16, 16]          1\n",
      "│    │    └─Sequential: 3-7                                                      [1, 256, 16, 16]          142,592\n",
      "│    └─AdditiveResidual: 2-8                                                     [1, 256, 16, 16]          1\n",
      "│    │    └─Sequential: 3-8                                                      [1, 256, 16, 16]          142,592\n",
      "│    └─AdditiveResidual: 2-9                                                     [1, 256, 16, 16]          1\n",
      "│    │    └─Sequential: 3-9                                                      [1, 256, 16, 16]          142,592\n",
      "│    └─AdditiveResidual: 2-10                                                    [1, 256, 16, 16]          1\n",
      "│    │    └─Sequential: 3-10                                                     [1, 256, 16, 16]          142,592\n",
      "│    └─AdditiveResidual: 2-11                                                    [1, 256, 16, 16]          1\n",
      "│    │    └─Sequential: 3-11                                                     [1, 256, 16, 16]          142,592\n",
      "│    └─AdditiveResidual: 2-12                                                    [1, 256, 16, 16]          1\n",
      "│    │    └─Sequential: 3-12                                                     [1, 256, 16, 16]          142,592\n",
      "│    └─AdditiveResidual: 2-13                                                    [1, 256, 16, 16]          1\n",
      "│    │    └─Sequential: 3-13                                                     [1, 256, 16, 16]          142,592\n",
      "│    └─ParametrizedRKOConv2d: 2-14                                               [1, 256, 1, 1]            --\n",
      "│    │    └─ModuleDict: 3-14                                                     --                        196,864\n",
      "│    └─Flatten: 2-15                                                             [1, 256]                  --\n",
      "│    └─MaxMin: 2-16                                                              [1, 256]                  --\n",
      "│    └─ParametrizedOrthoLinear: 2-17                                             [1, 10]                   --\n",
      "│    │    └─ModuleDict: 3-15                                                     --                        2,826\n",
      "==================================================================================================================================\n",
      "Total params: 1,914,146\n",
      "Trainable params: 1,783,308\n",
      "Non-trainable params: 130,838\n",
      "Total mult-adds (Units.MEGABYTES): 0\n",
      "==================================================================================================================================\n",
      "Input size (MB): 0.01\n",
      "Forward/backward pass size (MB): 0.00\n",
      "Params size (MB): 0.00\n",
      "Estimated Total Size (MB): 0.01\n",
      "==================================================================================================================================\n"
     ]
    },
    {
     "data": {
      "application/vnd.jupyter.widget-view+json": {
       "model_id": "2226827bf89b409084b8ddffca572e0b",
       "version_major": 2,
       "version_minor": 0
      },
      "text/plain": [
       "Sanity Checking: |                                                                                            …"
      ]
     },
     "metadata": {},
     "output_type": "display_data"
    },
    {
     "name": "stdout",
     "output_type": "stream",
     "text": [
      "Files already downloaded and verified\n",
      "Files already downloaded and verified\n"
     ]
    },
    {
     "data": {
      "application/vnd.jupyter.widget-view+json": {
       "model_id": "fcf0b6135375483284ee822ed7415541",
       "version_major": 2,
       "version_minor": 0
      },
      "text/plain": [
       "Training: |                                                                                                   …"
      ]
     },
     "metadata": {},
     "output_type": "display_data"
    },
    {
     "data": {
      "application/vnd.jupyter.widget-view+json": {
       "model_id": "e69ec3170eb643649405d9c085cc474f",
       "version_major": 2,
       "version_minor": 0
      },
      "text/plain": [
       "Validation: |                                                                                                 …"
      ]
     },
     "metadata": {},
     "output_type": "display_data"
    },
    {
     "data": {
      "application/vnd.jupyter.widget-view+json": {
       "model_id": "d66dfd3ba2444f8caa958060c8e19750",
       "version_major": 2,
       "version_minor": 0
      },
      "text/plain": [
       "Validation: |                                                                                                 …"
      ]
     },
     "metadata": {},
     "output_type": "display_data"
    },
    {
     "data": {
      "application/vnd.jupyter.widget-view+json": {
       "model_id": "d9a67fb7924944d785d075ecf527523e",
       "version_major": 2,
       "version_minor": 0
      },
      "text/plain": [
       "Validation: |                                                                                                 …"
      ]
     },
     "metadata": {},
     "output_type": "display_data"
    },
    {
     "data": {
      "application/vnd.jupyter.widget-view+json": {
       "model_id": "1263a873ec9245ae86ae078ef88fed29",
       "version_major": 2,
       "version_minor": 0
      },
      "text/plain": [
       "Validation: |                                                                                                 …"
      ]
     },
     "metadata": {},
     "output_type": "display_data"
    },
    {
     "data": {
      "application/vnd.jupyter.widget-view+json": {
       "model_id": "f7208738bb03464bb1fd66c6f7c094e8",
       "version_major": 2,
       "version_minor": 0
      },
      "text/plain": [
       "Validation: |                                                                                                 …"
      ]
     },
     "metadata": {},
     "output_type": "display_data"
    },
    {
     "data": {
      "application/vnd.jupyter.widget-view+json": {
       "model_id": "e76a042444de434aa4ea4d21daa9519a",
       "version_major": 2,
       "version_minor": 0
      },
      "text/plain": [
       "Validation: |                                                                                                 …"
      ]
     },
     "metadata": {},
     "output_type": "display_data"
    },
    {
     "data": {
      "application/vnd.jupyter.widget-view+json": {
       "model_id": "7fd21fb9cc74430092ae0d8b460fa0de",
       "version_major": 2,
       "version_minor": 0
      },
      "text/plain": [
       "Validation: |                                                                                                 …"
      ]
     },
     "metadata": {},
     "output_type": "display_data"
    },
    {
     "data": {
      "application/vnd.jupyter.widget-view+json": {
       "model_id": "6bf278b0c03045c5b23b5bba43972a68",
       "version_major": 2,
       "version_minor": 0
      },
      "text/plain": [
       "Validation: |                                                                                                 …"
      ]
     },
     "metadata": {},
     "output_type": "display_data"
    },
    {
     "data": {
      "application/vnd.jupyter.widget-view+json": {
       "model_id": "86fe5ff8be2741418456e1f3a0c72fff",
       "version_major": 2,
       "version_minor": 0
      },
      "text/plain": [
       "Validation: |                                                                                                 …"
      ]
     },
     "metadata": {},
     "output_type": "display_data"
    },
    {
     "data": {
      "application/vnd.jupyter.widget-view+json": {
       "model_id": "999d206a612c4294b894da5aa640617f",
       "version_major": 2,
       "version_minor": 0
      },
      "text/plain": [
       "Validation: |                                                                                                 …"
      ]
     },
     "metadata": {},
     "output_type": "display_data"
    },
    {
     "data": {
      "application/vnd.jupyter.widget-view+json": {
       "model_id": "55b0a51a70ab41d289b659f0c0c42c72",
       "version_major": 2,
       "version_minor": 0
      },
      "text/plain": [
       "Validation: |                                                                                                 …"
      ]
     },
     "metadata": {},
     "output_type": "display_data"
    },
    {
     "data": {
      "application/vnd.jupyter.widget-view+json": {
       "model_id": "fff0fb909c7447f7a1a8bec3faa9f012",
       "version_major": 2,
       "version_minor": 0
      },
      "text/plain": [
       "Validation: |                                                                                                 …"
      ]
     },
     "metadata": {},
     "output_type": "display_data"
    },
    {
     "data": {
      "application/vnd.jupyter.widget-view+json": {
       "model_id": "7111ce7a8b064f6089dc09cc0f250fb9",
       "version_major": 2,
       "version_minor": 0
      },
      "text/plain": [
       "Validation: |                                                                                                 …"
      ]
     },
     "metadata": {},
     "output_type": "display_data"
    },
    {
     "data": {
      "application/vnd.jupyter.widget-view+json": {
       "model_id": "766fa42f0e72472c809eae654d1e5e58",
       "version_major": 2,
       "version_minor": 0
      },
      "text/plain": [
       "Validation: |                                                                                                 …"
      ]
     },
     "metadata": {},
     "output_type": "display_data"
    },
    {
     "data": {
      "application/vnd.jupyter.widget-view+json": {
       "model_id": "2c5abe8a3f6e4196b5b83255a1419739",
       "version_major": 2,
       "version_minor": 0
      },
      "text/plain": [
       "Validation: |                                                                                                 …"
      ]
     },
     "metadata": {},
     "output_type": "display_data"
    },
    {
     "data": {
      "application/vnd.jupyter.widget-view+json": {
       "model_id": "c64cb38a9417429d825744c5013ab987",
       "version_major": 2,
       "version_minor": 0
      },
      "text/plain": [
       "Validation: |                                                                                                 …"
      ]
     },
     "metadata": {},
     "output_type": "display_data"
    },
    {
     "data": {
      "application/vnd.jupyter.widget-view+json": {
       "model_id": "1ae862f2a38a477c84cb30a97ee7acb4",
       "version_major": 2,
       "version_minor": 0
      },
      "text/plain": [
       "Validation: |                                                                                                 …"
      ]
     },
     "metadata": {},
     "output_type": "display_data"
    },
    {
     "data": {
      "application/vnd.jupyter.widget-view+json": {
       "model_id": "e4129e4c37f24df2b5861bc15d8cae23",
       "version_major": 2,
       "version_minor": 0
      },
      "text/plain": [
       "Validation: |                                                                                                 …"
      ]
     },
     "metadata": {},
     "output_type": "display_data"
    },
    {
     "data": {
      "application/vnd.jupyter.widget-view+json": {
       "model_id": "b924d9fcb7e341b6a702e06dd9f60b48",
       "version_major": 2,
       "version_minor": 0
      },
      "text/plain": [
       "Validation: |                                                                                                 …"
      ]
     },
     "metadata": {},
     "output_type": "display_data"
    },
    {
     "data": {
      "application/vnd.jupyter.widget-view+json": {
       "model_id": "c40b8d0e8c61427985b91fc161a138fb",
       "version_major": 2,
       "version_minor": 0
      },
      "text/plain": [
       "Validation: |                                                                                                 …"
      ]
     },
     "metadata": {},
     "output_type": "display_data"
    },
    {
     "data": {
      "application/vnd.jupyter.widget-view+json": {
       "model_id": "20d0eef1ab6c494998a6375f9f27da45",
       "version_major": 2,
       "version_minor": 0
      },
      "text/plain": [
       "Validation: |                                                                                                 …"
      ]
     },
     "metadata": {},
     "output_type": "display_data"
    },
    {
     "data": {
      "application/vnd.jupyter.widget-view+json": {
       "model_id": "836a21a6cc254089a315b6b32e6860dc",
       "version_major": 2,
       "version_minor": 0
      },
      "text/plain": [
       "Validation: |                                                                                                 …"
      ]
     },
     "metadata": {},
     "output_type": "display_data"
    },
    {
     "data": {
      "application/vnd.jupyter.widget-view+json": {
       "model_id": "f2460340f2ee40d1940f5e68f03c8aaf",
       "version_major": 2,
       "version_minor": 0
      },
      "text/plain": [
       "Validation: |                                                                                                 …"
      ]
     },
     "metadata": {},
     "output_type": "display_data"
    },
    {
     "data": {
      "application/vnd.jupyter.widget-view+json": {
       "model_id": "394bc1541b1e45b483cb0f6fc3249fd8",
       "version_major": 2,
       "version_minor": 0
      },
      "text/plain": [
       "Validation: |                                                                                                 …"
      ]
     },
     "metadata": {},
     "output_type": "display_data"
    },
    {
     "data": {
      "application/vnd.jupyter.widget-view+json": {
       "model_id": "02d9185d09264052b1fdacced023a225",
       "version_major": 2,
       "version_minor": 0
      },
      "text/plain": [
       "Validation: |                                                                                                 …"
      ]
     },
     "metadata": {},
     "output_type": "display_data"
    },
    {
     "data": {
      "application/vnd.jupyter.widget-view+json": {
       "model_id": "507158623c2f46809d15db8d587c13bd",
       "version_major": 2,
       "version_minor": 0
      },
      "text/plain": [
       "Validation: |                                                                                                 …"
      ]
     },
     "metadata": {},
     "output_type": "display_data"
    },
    {
     "data": {
      "application/vnd.jupyter.widget-view+json": {
       "model_id": "c2c9a08f36954982b035ff3dcd47a348",
       "version_major": 2,
       "version_minor": 0
      },
      "text/plain": [
       "Validation: |                                                                                                 …"
      ]
     },
     "metadata": {},
     "output_type": "display_data"
    },
    {
     "data": {
      "application/vnd.jupyter.widget-view+json": {
       "model_id": "b85495eabe7f420c9786514d860e5a55",
       "version_major": 2,
       "version_minor": 0
      },
      "text/plain": [
       "Validation: |                                                                                                 …"
      ]
     },
     "metadata": {},
     "output_type": "display_data"
    },
    {
     "data": {
      "application/vnd.jupyter.widget-view+json": {
       "model_id": "dad5e8c0db064762af69e4b86c29621b",
       "version_major": 2,
       "version_minor": 0
      },
      "text/plain": [
       "Validation: |                                                                                                 …"
      ]
     },
     "metadata": {},
     "output_type": "display_data"
    },
    {
     "data": {
      "application/vnd.jupyter.widget-view+json": {
       "model_id": "8c05ef38da6c4d8da8ff02592f4ec3fa",
       "version_major": 2,
       "version_minor": 0
      },
      "text/plain": [
       "Validation: |                                                                                                 …"
      ]
     },
     "metadata": {},
     "output_type": "display_data"
    },
    {
     "data": {
      "application/vnd.jupyter.widget-view+json": {
       "model_id": "d5c543f2ec8141f69c249e94ca5bd548",
       "version_major": 2,
       "version_minor": 0
      },
      "text/plain": [
       "Validation: |                                                                                                 …"
      ]
     },
     "metadata": {},
     "output_type": "display_data"
    },
    {
     "data": {
      "application/vnd.jupyter.widget-view+json": {
       "model_id": "b872909a37c647749afc42040861d2d9",
       "version_major": 2,
       "version_minor": 0
      },
      "text/plain": [
       "Validation: |                                                                                                 …"
      ]
     },
     "metadata": {},
     "output_type": "display_data"
    },
    {
     "data": {
      "application/vnd.jupyter.widget-view+json": {
       "model_id": "8b47094818724bf8bf458660f0c18d7a",
       "version_major": 2,
       "version_minor": 0
      },
      "text/plain": [
       "Validation: |                                                                                                 …"
      ]
     },
     "metadata": {},
     "output_type": "display_data"
    },
    {
     "data": {
      "application/vnd.jupyter.widget-view+json": {
       "model_id": "afb573baec2b47828f4e2aabd98a06fe",
       "version_major": 2,
       "version_minor": 0
      },
      "text/plain": [
       "Validation: |                                                                                                 …"
      ]
     },
     "metadata": {},
     "output_type": "display_data"
    },
    {
     "data": {
      "application/vnd.jupyter.widget-view+json": {
       "model_id": "9c45134f0de04a1a87331011898a92a0",
       "version_major": 2,
       "version_minor": 0
      },
      "text/plain": [
       "Validation: |                                                                                                 …"
      ]
     },
     "metadata": {},
     "output_type": "display_data"
    },
    {
     "data": {
      "application/vnd.jupyter.widget-view+json": {
       "model_id": "f93009ef44c04659812e1ab6b35f652e",
       "version_major": 2,
       "version_minor": 0
      },
      "text/plain": [
       "Validation: |                                                                                                 …"
      ]
     },
     "metadata": {},
     "output_type": "display_data"
    },
    {
     "data": {
      "application/vnd.jupyter.widget-view+json": {
       "model_id": "128f34b1199a47dea368948200a7a576",
       "version_major": 2,
       "version_minor": 0
      },
      "text/plain": [
       "Validation: |                                                                                                 …"
      ]
     },
     "metadata": {},
     "output_type": "display_data"
    },
    {
     "data": {
      "application/vnd.jupyter.widget-view+json": {
       "model_id": "e0ea951a09ef4c7a9f5f04677f9b5d77",
       "version_major": 2,
       "version_minor": 0
      },
      "text/plain": [
       "Validation: |                                                                                                 …"
      ]
     },
     "metadata": {},
     "output_type": "display_data"
    },
    {
     "data": {
      "application/vnd.jupyter.widget-view+json": {
       "model_id": "d0a977768f1840629231625fc4a6c0fd",
       "version_major": 2,
       "version_minor": 0
      },
      "text/plain": [
       "Validation: |                                                                                                 …"
      ]
     },
     "metadata": {},
     "output_type": "display_data"
    },
    {
     "data": {
      "application/vnd.jupyter.widget-view+json": {
       "model_id": "cb27b60727bb424fac80de3e2d09faa3",
       "version_major": 2,
       "version_minor": 0
      },
      "text/plain": [
       "Validation: |                                                                                                 …"
      ]
     },
     "metadata": {},
     "output_type": "display_data"
    },
    {
     "data": {
      "application/vnd.jupyter.widget-view+json": {
       "model_id": "3bf8927c76d740dea7357fd8883810de",
       "version_major": 2,
       "version_minor": 0
      },
      "text/plain": [
       "Validation: |                                                                                                 …"
      ]
     },
     "metadata": {},
     "output_type": "display_data"
    },
    {
     "data": {
      "application/vnd.jupyter.widget-view+json": {
       "model_id": "e2b9c52d53764fdf8583215f0ec0f4c8",
       "version_major": 2,
       "version_minor": 0
      },
      "text/plain": [
       "Validation: |                                                                                                 …"
      ]
     },
     "metadata": {},
     "output_type": "display_data"
    },
    {
     "data": {
      "application/vnd.jupyter.widget-view+json": {
       "model_id": "9b5d9ac27fee420d97ce033fb0f5b932",
       "version_major": 2,
       "version_minor": 0
      },
      "text/plain": [
       "Validation: |                                                                                                 …"
      ]
     },
     "metadata": {},
     "output_type": "display_data"
    },
    {
     "data": {
      "application/vnd.jupyter.widget-view+json": {
       "model_id": "742daccf242143d3bda7e464f25eb899",
       "version_major": 2,
       "version_minor": 0
      },
      "text/plain": [
       "Validation: |                                                                                                 …"
      ]
     },
     "metadata": {},
     "output_type": "display_data"
    },
    {
     "data": {
      "application/vnd.jupyter.widget-view+json": {
       "model_id": "b580c8ec9d324d368f6c211ab940bc66",
       "version_major": 2,
       "version_minor": 0
      },
      "text/plain": [
       "Validation: |                                                                                                 …"
      ]
     },
     "metadata": {},
     "output_type": "display_data"
    },
    {
     "data": {
      "application/vnd.jupyter.widget-view+json": {
       "model_id": "eff45c67c208455a9389cb0117e4f609",
       "version_major": 2,
       "version_minor": 0
      },
      "text/plain": [
       "Validation: |                                                                                                 …"
      ]
     },
     "metadata": {},
     "output_type": "display_data"
    },
    {
     "data": {
      "application/vnd.jupyter.widget-view+json": {
       "model_id": "da5a6854c4e843429fb20eebe0d6dab7",
       "version_major": 2,
       "version_minor": 0
      },
      "text/plain": [
       "Validation: |                                                                                                 …"
      ]
     },
     "metadata": {},
     "output_type": "display_data"
    },
    {
     "data": {
      "application/vnd.jupyter.widget-view+json": {
       "model_id": "4fe9f0ba14d143bab98d64809bd577e7",
       "version_major": 2,
       "version_minor": 0
      },
      "text/plain": [
       "Validation: |                                                                                                 …"
      ]
     },
     "metadata": {},
     "output_type": "display_data"
    },
    {
     "data": {
      "application/vnd.jupyter.widget-view+json": {
       "model_id": "66a22411171a4b3582500253b5634553",
       "version_major": 2,
       "version_minor": 0
      },
      "text/plain": [
       "Validation: |                                                                                                 …"
      ]
     },
     "metadata": {},
     "output_type": "display_data"
    },
    {
     "data": {
      "application/vnd.jupyter.widget-view+json": {
       "model_id": "647bef5c2b044718a9a511f5fdf33814",
       "version_major": 2,
       "version_minor": 0
      },
      "text/plain": [
       "Validation: |                                                                                                 …"
      ]
     },
     "metadata": {},
     "output_type": "display_data"
    },
    {
     "data": {
      "application/vnd.jupyter.widget-view+json": {
       "model_id": "a69650f346894dc4925403eed72fb704",
       "version_major": 2,
       "version_minor": 0
      },
      "text/plain": [
       "Validation: |                                                                                                 …"
      ]
     },
     "metadata": {},
     "output_type": "display_data"
    },
    {
     "data": {
      "application/vnd.jupyter.widget-view+json": {
       "model_id": "8832554888034a9a8b4e8967c71b1c46",
       "version_major": 2,
       "version_minor": 0
      },
      "text/plain": [
       "Validation: |                                                                                                 …"
      ]
     },
     "metadata": {},
     "output_type": "display_data"
    },
    {
     "data": {
      "application/vnd.jupyter.widget-view+json": {
       "model_id": "1b8d35bff60a41ac838b00ed0a42d147",
       "version_major": 2,
       "version_minor": 0
      },
      "text/plain": [
       "Validation: |                                                                                                 …"
      ]
     },
     "metadata": {},
     "output_type": "display_data"
    },
    {
     "data": {
      "application/vnd.jupyter.widget-view+json": {
       "model_id": "8cddca1f1d4241edb26dab4e3a4629f9",
       "version_major": 2,
       "version_minor": 0
      },
      "text/plain": [
       "Validation: |                                                                                                 …"
      ]
     },
     "metadata": {},
     "output_type": "display_data"
    },
    {
     "data": {
      "application/vnd.jupyter.widget-view+json": {
       "model_id": "f7e33c719dd24d1b9e2574e038e044dc",
       "version_major": 2,
       "version_minor": 0
      },
      "text/plain": [
       "Validation: |                                                                                                 …"
      ]
     },
     "metadata": {},
     "output_type": "display_data"
    },
    {
     "data": {
      "application/vnd.jupyter.widget-view+json": {
       "model_id": "f09d28d453d343828d9f89188b5fe285",
       "version_major": 2,
       "version_minor": 0
      },
      "text/plain": [
       "Validation: |                                                                                                 …"
      ]
     },
     "metadata": {},
     "output_type": "display_data"
    },
    {
     "data": {
      "application/vnd.jupyter.widget-view+json": {
       "model_id": "a709badae748425aacf30afab9e7bf03",
       "version_major": 2,
       "version_minor": 0
      },
      "text/plain": [
       "Validation: |                                                                                                 …"
      ]
     },
     "metadata": {},
     "output_type": "display_data"
    },
    {
     "data": {
      "application/vnd.jupyter.widget-view+json": {
       "model_id": "08fcad2b42724844ad68b4715ea183c3",
       "version_major": 2,
       "version_minor": 0
      },
      "text/plain": [
       "Validation: |                                                                                                 …"
      ]
     },
     "metadata": {},
     "output_type": "display_data"
    },
    {
     "data": {
      "application/vnd.jupyter.widget-view+json": {
       "model_id": "fa05739a92f6468883dd0b609715d376",
       "version_major": 2,
       "version_minor": 0
      },
      "text/plain": [
       "Validation: |                                                                                                 …"
      ]
     },
     "metadata": {},
     "output_type": "display_data"
    },
    {
     "data": {
      "application/vnd.jupyter.widget-view+json": {
       "model_id": "d88fb502d8004927b664794ad314752b",
       "version_major": 2,
       "version_minor": 0
      },
      "text/plain": [
       "Validation: |                                                                                                 …"
      ]
     },
     "metadata": {},
     "output_type": "display_data"
    },
    {
     "name": "stderr",
     "output_type": "stream",
     "text": [
      "`Trainer.fit` stopped: `max_epochs=60` reached.\n"
     ]
    }
   ],
   "source": [
    "# Select the training setting manually.\n",
    "train_setting = \"non_robust\"  # Options: \"non_robust\", \"mildly_robust\", or \"robust\"\n",
    "\n",
    "# Get the corresponding loss function and number of epochs from the settings.\n",
    "current_setting = settings[train_setting]\n",
    "\n",
    "# Instantiate the classification model and data module.\n",
    "classification_module = ClassificationLightningModule(num_classes=10, loss=current_setting[\"loss\"])\n",
    "data_module = Cifar10DataModule()\n",
    "\n",
    "# Optionally, set up a logger or callbacks if needed.\n",
    "# For example, if using Wandb:\n",
    "# from lightning.pytorch.loggers import WandbLogger\n",
    "# wandb_logger = WandbLogger(project=\"lipschitz-robust-cifar10\", log_model=True)\n",
    "# checkpoint_callback = pl_callbacks.ModelCheckpoint(\n",
    "#     monitor=\"loss\",\n",
    "#     mode=\"min\",\n",
    "#     save_top_k=1,\n",
    "#     save_last=True,\n",
    "#     dirpath=f\"./checkpoints/{wandb_logger.experiment.dir}\",\n",
    "# )\n",
    "\n",
    "trainer = Trainer(\n",
    "    accelerator=\"gpu\",\n",
    "    devices=[1],             # Use 1 GPU set to -1 for all GPUs\n",
    "    num_nodes=1,            # Number of nodes\n",
    "    # strategy=\"ddp_spawn\",         # Distributed strategy\n",
    "    precision=\"bf16-mixed\", # Mixed precision training\n",
    "    max_epochs=current_setting[\"epochs\"],\n",
    "    enable_model_summary=False,\n",
    "    # logger=[wandb_logger],  # Uncomment to enable Wandb logging\n",
    "    logger=False,\n",
    "    callbacks=[\n",
    "        # You can add callbacks here, e.g.:\n",
    "        # pl_callbacks.LearningRateFinder(max_lr=0.05),\n",
    "        # checkpoint_callback,\n",
    "    ],\n",
    ")\n",
    "\n",
    "print(summary(classification_module, input_size=(1, 3, 32, 32)))\n",
    "# Start training\n",
    "trainer.fit(classification_module, data_module)\n",
    "\n",
    "# Optionally, you can save the trained model afterwards:\n",
    "# torch.save(classification_module.model.state_dict(), \"single_stage.pth\")\n"
   ]
  },
  {
   "cell_type": "markdown",
   "id": "399725e628d1393a",
   "metadata": {},
   "source": [
    "## Next Steps\n",
    "\n",
    "- **Model Evaluation:** You can add a new cell to perform model evaluation or predictions.\n",
    "- **Logging and Checkpoints:** To enable model logging or checkpoint saving, uncomment the corresponding lines and configure as needed.\n",
    "- **Experiment with Settings:** Change the `train_setting` variable to `\"mildly_robust\"` or `\"robust\"` to experiment with other training configurations.\n"
   ]
  }
 ],
 "metadata": {
  "kernelspec": {
   "display_name": "Python 3 (ipykernel)",
   "language": "python",
   "name": "python3"
  },
  "language_info": {
   "codemirror_mode": {
    "name": "ipython",
    "version": 3
   },
   "file_extension": ".py",
   "mimetype": "text/x-python",
   "name": "python",
   "nbconvert_exporter": "python",
   "pygments_lexer": "ipython3",
   "version": "3.12.7"
  }
 },
 "nbformat": 4,
 "nbformat_minor": 5
}
